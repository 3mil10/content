{
  "nbformat": 4,
  "nbformat_minor": 0,
  "metadata": {
    "colab": {
      "provenance": [],
      "authorship_tag": "ABX9TyPWt1C6OGmvNrWTDr/RBXCe",
      "include_colab_link": true
    },
    "kernelspec": {
      "name": "python3",
      "display_name": "Python 3"
    },
    "language_info": {
      "name": "python"
    }
  },
  "cells": [
    {
      "cell_type": "markdown",
      "metadata": {
        "id": "view-in-github",
        "colab_type": "text"
      },
      "source": [
        "<a href=\"https://colab.research.google.com/github/3mil10/content/blob/main/PY_ACAD.ipynb\" target=\"_parent\"><img src=\"https://colab.research.google.com/assets/colab-badge.svg\" alt=\"Open In Colab\"/></a>"
      ]
    },
    {
      "cell_type": "code",
      "execution_count": null,
      "metadata": {
        "colab": {
          "base_uri": "https://localhost:8080/"
        },
        "id": "h1PLezjwFZRm",
        "outputId": "11968269-aca8-4b93-b43a-c4dfcf3cbe30"
      },
      "outputs": [
        {
          "output_type": "stream",
          "name": "stdout",
          "text": [
            "1\n",
            "2\n",
            "3\n",
            "4\n",
            "5\n",
            "Todos os itens foram exibidos.\n"
          ]
        }
      ],
      "source": [
        "#loops com for\n",
        "\n",
        "lista = [1,2,3,4,5]\n",
        "\n",
        "for item in lista:\n",
        "  print(item)\n",
        "else:\n",
        "  print('Todos os itens foram exibidos.')"
      ]
    },
    {
      "cell_type": "code",
      "source": [
        "#loops com for\n",
        "\n",
        "computador = ['processador', 'teclado','mouse']\n",
        "\n",
        "for item in computador:\n",
        "  print(item)\n"
      ],
      "metadata": {
        "colab": {
          "base_uri": "https://localhost:8080/"
        },
        "id": "0twI5wmNHKHv",
        "outputId": "c81968a7-ffdc-4ce7-b3e5-53c791c0518c"
      },
      "execution_count": null,
      "outputs": [
        {
          "output_type": "stream",
          "name": "stdout",
          "text": [
            "processador\n",
            "teclado\n",
            "mouse\n"
          ]
        }
      ]
    },
    {
      "cell_type": "code",
      "source": [
        "#loops com for\n",
        "\n",
        "notas = {\n",
        "    'Quimica':7,\n",
        "    'Math':7,\n",
        "    'Fisica':7,\n",
        "    'Ingles':7,\n",
        "    'Portuguese':7,\n",
        "}\n",
        "\n",
        "for chave, valor in notas.items():\n",
        "  print(f'{chave}: {valor}')"
      ],
      "metadata": {
        "colab": {
          "base_uri": "https://localhost:8080/"
        },
        "id": "SyOrBIzuI_JS",
        "outputId": "894329da-c867-4e52-c17e-5821b0416e79"
      },
      "execution_count": null,
      "outputs": [
        {
          "output_type": "stream",
          "name": "stdout",
          "text": [
            "Quimica: 7\n",
            "Math: 7\n",
            "Fisica: 7\n",
            "Ingles: 7\n",
            "Portuguese: 7\n"
          ]
        }
      ]
    },
    {
      "cell_type": "code",
      "source": [
        "# divide a string\n",
        "\n",
        "for caractere in 'PYTHON':\n",
        "  print(caractere)"
      ],
      "metadata": {
        "colab": {
          "base_uri": "https://localhost:8080/"
        },
        "id": "EVVY_YopJthP",
        "outputId": "860ec7b5-db66-4623-9db3-fb6f0068b698"
      },
      "execution_count": null,
      "outputs": [
        {
          "output_type": "stream",
          "name": "stdout",
          "text": [
            "P\n",
            "Y\n",
            "T\n",
            "H\n",
            "O\n",
            "N\n"
          ]
        }
      ]
    },
    {
      "cell_type": "code",
      "source": [
        "# comando WHILE\n",
        "\n",
        "contador = 0\n",
        "\n",
        "while contador<=10:\n",
        "  print(f'Valor do contador é {contador}')\n",
        "  contador += 1"
      ],
      "metadata": {
        "colab": {
          "base_uri": "https://localhost:8080/"
        },
        "id": "XHNdlVKUKLQn",
        "outputId": "f5200dda-dd88-4e88-ed17-334bbabd9ffd"
      },
      "execution_count": null,
      "outputs": [
        {
          "output_type": "stream",
          "name": "stdout",
          "text": [
            "Valor do contador é 0\n",
            "Valor do contador é 1\n",
            "Valor do contador é 2\n",
            "Valor do contador é 3\n",
            "Valor do contador é 4\n",
            "Valor do contador é 5\n",
            "Valor do contador é 6\n",
            "Valor do contador é 7\n",
            "Valor do contador é 8\n",
            "Valor do contador é 9\n",
            "Valor do contador é 10\n"
          ]
        }
      ]
    },
    {
      "cell_type": "code",
      "source": [
        "# comando WHILE com ELSE\n",
        "\n",
        "contador = 0\n",
        "\n",
        "while contador<10:\n",
        "  print(f'Valor do contador é {contador}')\n",
        "  contador += 1\n",
        "else:\n",
        "  print(f'Fim do while e o valor do contador é {contador}')"
      ],
      "metadata": {
        "id": "apt4bRSZMcfj"
      },
      "execution_count": null,
      "outputs": []
    },
    {
      "cell_type": "code",
      "source": [
        "# Auxiliador break, para finalizar um loop\n",
        "\n",
        "\n",
        "for num in range(10):\n",
        "# se o num for igual a 5 devemos parar o loop\n",
        "  if num==5:\n",
        "#break faz o loop finalizar\n",
        "    break\n",
        "  else:\n",
        "    print(num)"
      ],
      "metadata": {
        "colab": {
          "base_uri": "https://localhost:8080/"
        },
        "id": "lHzBBegeO7Wn",
        "outputId": "538f607b-9741-45a0-b664-221bdf4d4b81"
      },
      "execution_count": null,
      "outputs": [
        {
          "output_type": "stream",
          "name": "stdout",
          "text": [
            "0\n",
            "1\n",
            "2\n",
            "3\n",
            "4\n"
          ]
        }
      ]
    },
    {
      "cell_type": "code",
      "source": [
        "# usar BREAK com WHILE\n",
        "\n",
        "\n",
        "num = 0\n",
        "\n",
        "while num < 5:\n",
        "  num +=1\n",
        "\n",
        "  if num == 4:\n",
        "    break\n",
        "\n",
        "  print (num)"
      ],
      "metadata": {
        "id": "6nh0BoPPP6sM"
      },
      "execution_count": null,
      "outputs": []
    },
    {
      "cell_type": "code",
      "source": [
        "# Auxiliador CONTINUE com FOR\n",
        "\n",
        "for num in range(5):\n",
        "  if num ==3:\n",
        "    print('Encontrei o 3')\n",
        "\n",
        "    continue\n",
        "  else:\n",
        "    print(num)\n",
        "\n",
        "  print ('Estou abaixo do IF')\n"
      ],
      "metadata": {
        "id": "r0soirJLQugo"
      },
      "execution_count": null,
      "outputs": []
    },
    {
      "cell_type": "code",
      "source": [
        "# Auxiliador CONTINUE com WHILE\n",
        "\n",
        "num = 0\n",
        "\n",
        "while num < 5:\n",
        "  num +=1\n",
        "\n",
        "  if num == 3:\n",
        "      continue\n",
        "  print(num)\n"
      ],
      "metadata": {
        "id": "m2ofVFcdS0Wq"
      },
      "execution_count": null,
      "outputs": []
    },
    {
      "cell_type": "code",
      "source": [
        "#Utilizando RANGE\n",
        "\n",
        "print(list(range(5)))\n",
        "print(list(range(5, 10)))\n",
        "print(list(range(0, 10, 2)))\n",
        "\n"
      ],
      "metadata": {
        "colab": {
          "base_uri": "https://localhost:8080/"
        },
        "id": "ceqbzUiBS0PL",
        "outputId": "5a63f236-63c4-498a-b4ff-c010fea6e422"
      },
      "execution_count": null,
      "outputs": [
        {
          "output_type": "stream",
          "name": "stdout",
          "text": [
            "[0, 1, 2, 3, 4]\n",
            "[5, 6, 7, 8, 9]\n",
            "[0, 2, 4, 6, 8]\n",
            "0\n",
            "1\n",
            "2\n",
            "3\n"
          ]
        }
      ]
    },
    {
      "cell_type": "code",
      "source": [
        "for num in range(4):\n",
        "  print(num)\n",
        "\n",
        "\n",
        "  lista = list(range(6))\n",
        "  comprimento = 6\n",
        "\n",
        "\n",
        "  while len(lista) == comprimento:\n",
        "    print(lista)\n",
        "    lista.append('item')\n",
        "\n",
        "  else:\n",
        "    print(f'O comprimento da Lista é {len(lista)} e ultrapassa {comprimento}!')\n",
        "    print(lista)\n",
        "  break"
      ],
      "metadata": {
        "colab": {
          "base_uri": "https://localhost:8080/"
        },
        "id": "JU6kmVNyYRTs",
        "outputId": "23e1d65c-db5a-45ee-9186-095b4e64ab65"
      },
      "execution_count": null,
      "outputs": [
        {
          "output_type": "stream",
          "name": "stdout",
          "text": [
            "0\n",
            "[0, 1, 2, 3, 4, 5]\n",
            "O comprimento da Lista é 7 e ultrapassa 6!\n",
            "[0, 1, 2, 3, 4, 5, 'item']\n"
          ]
        }
      ]
    }
  ]
}